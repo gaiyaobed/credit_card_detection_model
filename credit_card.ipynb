{
 "cells": [
  {
   "cell_type": "markdown",
   "source": [],
   "metadata": {
    "collapsed": false
   }
  },
  {
   "cell_type": "markdown",
   "source": [
    "Credit Card Fraud Detection Model\n",
    "\n",
    "Context\n",
    "It is important that credit card companies are able to recognize fraudulent credit card transactions so that customers are not charged for items that they did not purchase\n"
   ],
   "metadata": {
    "collapsed": false
   }
  },
  {
   "cell_type": "code",
   "execution_count": 11,
   "outputs": [
    {
     "name": "stdout",
     "output_type": "stream",
     "text": [
      "Best parameters: {'C': 0.1, 'penalty': 'l2'}\n",
      "Cross-validation F1 scores: [0.94472293 0.94458498 0.94557492 0.94569131 0.94473923]\n",
      "Mean F1 score: 0.9450626752198931\n",
      "Cross-validation ROC AUC scores: [0.94642804 0.94630781 0.94723016 0.94728512 0.94642779]\n",
      "Mean ROC AUC score: 0.9467357826242522\n",
      "Confusion Matrix:\n",
      " [[55534  1330]\n",
      " [    8    90]]\n",
      "Classification Report:\n",
      "               precision    recall  f1-score   support\n",
      "\n",
      "           0       1.00      0.98      0.99     56864\n",
      "           1       0.06      0.92      0.12        98\n",
      "\n",
      "    accuracy                           0.98     56962\n",
      "   macro avg       0.53      0.95      0.55     56962\n",
      "weighted avg       1.00      0.98      0.99     56962\n",
      "\n",
      "F1 Score: 0.11857707509881422\n",
      "ROC AUC Score: 0.9474891039702319\n"
     ]
    }
   ],
   "source": [
    "# Importing the libraries\n",
    "import pandas as pd\n",
    "import numpy as np\n",
    "from sklearn.model_selection import cross_val_score, GridSearchCV, train_test_split\n",
    "from sklearn.linear_model import LogisticRegression\n",
    "from sklearn.metrics import make_scorer, confusion_matrix, classification_report, f1_score, roc_auc_score\n",
    "from imblearn.over_sampling import RandomOverSampler\n",
    "from imblearn.pipeline import make_pipeline\n",
    "from sklearn.preprocessing import StandardScaler\n",
    "\n",
    "# Loading the dataset\n",
    "df = pd.read_csv('creditcard.csv')\n",
    "\n",
    "# Splitting the dataset into features and target\n",
    "X = df.drop(['Class'], axis=1)\n",
    "y = df['Class']\n",
    "\n",
    "# Splitting the data into training and testing sets\n",
    "X_train, X_test, y_train, y_test = train_test_split(X, y, test_size=0.2, random_state=42)\n",
    "\n",
    "# Preprocessing the data\n",
    "scaler = StandardScaler()\n",
    "X_train = scaler.fit_transform(X_train)\n",
    "X_test = scaler.transform(X_test)\n",
    "\n",
    "# Balancing the dataset\n",
    "oversampler = RandomOverSampler(sampling_strategy='minority')\n",
    "X_train_resampled, y_train_resampled = oversampler.fit_resample(X_train, y_train)\n",
    "\n",
    "# Fitting the Logistic Regression model to the training data\n",
    "logreg = LogisticRegression(max_iter=1000)\n",
    "param_grid = {'C': [0.1, 1, 10], 'penalty': ['l2']}\n",
    "grid_search = GridSearchCV(logreg, param_grid, cv=5, error_score='raise', scoring=make_scorer(f1_score))\n",
    "grid_search.fit(X_train_resampled, y_train_resampled)\n",
    "\n",
    "# Evaluating the performance of the model using cross-validation\n",
    "cv_f1_scores = cross_val_score(grid_search.best_estimator_, X_train_resampled, y_train_resampled, cv=5, scoring=make_scorer(f1_score))\n",
    "cv_roc_auc_scores = cross_val_score(grid_search.best_estimator_, X_train_resampled, y_train_resampled, cv=5, scoring=make_scorer(roc_auc_score))\n",
    "\n",
    "print(\"Best parameters:\", grid_search.best_params_)\n",
    "print(\"Cross-validation F1 scores:\", cv_f1_scores)\n",
    "print(\"Mean F1 score:\", np.mean(cv_f1_scores))\n",
    "print(\"Cross-validation ROC AUC scores:\", cv_roc_auc_scores)\n",
    "print(\"Mean ROC AUC score:\", np.mean(cv_roc_auc_scores))\n",
    "\n",
    "# Predicting on the test data\n",
    "y_pred = grid_search.predict(X_test)\n",
    "\n",
    "# Evaluating the performance of the model using confusion matrix and classification report\n",
    "cm = confusion_matrix(y_test, y_pred)\n",
    "cr = classification_report(y_test, y_pred)\n",
    "\n",
    "print(\"Confusion Matrix:\\n\", cm)\n",
    "print(\"Classification Report:\\n\", cr)\n",
    "\n",
    "# Evaluating the performance of the model using F1 score and ROC AUC score\n",
    "f1 = f1_score(y_test, y_pred)\n",
    "roc_auc = roc_auc_score(y_test, y_pred)\n",
    "\n",
    "print(\"F1 Score:\", f1)\n",
    "print(\"ROC AUC Score:\", roc_auc)\n"
   ],
   "metadata": {
    "collapsed": false
   }
  },
  {
   "cell_type": "code",
   "execution_count": null,
   "outputs": [],
   "source": [],
   "metadata": {
    "collapsed": false
   }
  }
 ],
 "metadata": {
  "kernelspec": {
   "display_name": "Python 3",
   "language": "python",
   "name": "python3"
  },
  "language_info": {
   "codemirror_mode": {
    "name": "ipython",
    "version": 2
   },
   "file_extension": ".py",
   "mimetype": "text/x-python",
   "name": "python",
   "nbconvert_exporter": "python",
   "pygments_lexer": "ipython2",
   "version": "2.7.6"
  }
 },
 "nbformat": 4,
 "nbformat_minor": 0
}
